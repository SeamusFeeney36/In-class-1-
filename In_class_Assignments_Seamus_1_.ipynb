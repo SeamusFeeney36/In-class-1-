{
  "nbformat": 4,
  "nbformat_minor": 0,
  "metadata": {
    "colab": {
      "provenance": [],
      "authorship_tag": "ABX9TyMExcwAS8tNQPcCRWZlnP1g",
      "include_colab_link": true
    },
    "kernelspec": {
      "name": "python3",
      "display_name": "Python 3"
    },
    "language_info": {
      "name": "python"
    }
  },
  "cells": [
    {
      "cell_type": "markdown",
      "metadata": {
        "id": "view-in-github",
        "colab_type": "text"
      },
      "source": [
        "<a href=\"https://colab.research.google.com/github/SeamusFeeney36/In-class-1-/blob/main/In_class_Assignments_Seamus_1_.ipynb\" target=\"_parent\"><img src=\"https://colab.research.google.com/assets/colab-badge.svg\" alt=\"Open In Colab\"/></a>"
      ]
    },
    {
      "cell_type": "code",
      "execution_count": null,
      "metadata": {
        "colab": {
          "base_uri": "https://localhost:8080/"
        },
        "id": "nVb5z4sMx7cu",
        "outputId": "4dc46ecf-4513-4aed-c857-d9251201064d"
      },
      "outputs": [
        {
          "output_type": "stream",
          "name": "stdout",
          "text": [
            "Please Provide radius:5\n",
            "Please Provide height:10\n",
            "Area of a Cylinder =471.0 sq. ft\n"
          ]
        }
      ],
      "source": [
        "pi = 3.14\n",
        "radius = float(input('Please Provide radius:'))\n",
        "height = float(input('Please Provide height:'))\n",
        "pi = 3.14\n",
        "\n",
        "Area = (2 * pi * (radius ** 2)) + (2 * pi * radius * height)\n",
        "print(f'Area of a Cylinder ={Area} sq. ft')"
      ]
    },
    {
      "cell_type": "code",
      "source": [
        "number1 = float(input(\"Please provide first number: \"))\n",
        "sign = input(\"Please provide operator (+, -, *, /, //, **, %): \")\n",
        "number2 = float(input(\"Please provide second number: \"))\n",
        "\n",
        "if sign == '+':\n",
        "  print(f'{number1} + {number2} = {number1 + number2}')\n",
        "elif sign =='-':\n",
        "  print(f'{number1} - {number2} = {number1 - number2}')\n",
        "elif sign =='*':\n",
        "  print(f'{number1} * {number2} = {number1 * number2}')\n",
        "elif sign =='/':\n",
        "  print(f'{number1} / {number2} = {number1 / number2}')\n",
        "elif sign =='//':\n",
        "  print(f'{number1} // {number2} = {number1 // number2}')\n",
        "elif sign =='**':\n",
        "  print(f'{number1} ^ {number2} = {number1 * number2}')\n",
        "elif sign =='%':\n",
        "  print(f'{number1} mod {number2} = {number1 % number2}')"
      ],
      "metadata": {
        "colab": {
          "base_uri": "https://localhost:8080/"
        },
        "id": "SqWXKrW1y66W",
        "outputId": "c8d9e6d4-c05d-46ef-d634-da5eecf51d71"
      },
      "execution_count": null,
      "outputs": [
        {
          "output_type": "stream",
          "name": "stdout",
          "text": [
            "Please provide first number: 2\n",
            "Please provide operator (+, -, *, /, //, **, %): +\n",
            "Please provide second number: 2\n",
            "2.0 + 2.0 = 4.0\n"
          ]
        }
      ]
    },
    {
      "cell_type": "code",
      "source": [
        "print ('(Ad$)','\\t','(Profit$)')\n",
        "for admoney in range(0, 225, 25):\n",
        "    additional = round(2 * (admoney)**.5)\n",
        "    profit = (20 + additional) * 10  - 200 - admoney\n",
        "    print(admoney, '\\t',  profit)"
      ],
      "metadata": {
        "id": "NAB6k18pTNm9"
      },
      "execution_count": null,
      "outputs": []
    }
  ]
}