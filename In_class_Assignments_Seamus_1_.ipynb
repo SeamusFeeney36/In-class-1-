{
  "nbformat": 4,
  "nbformat_minor": 0,
  "metadata": {
    "colab": {
      "provenance": [],
      "authorship_tag": "ABX9TyO5tReF5bhQdoFsJmJqFIXb",
      "include_colab_link": true
    },
    "kernelspec": {
      "name": "python3",
      "display_name": "Python 3"
    },
    "language_info": {
      "name": "python"
    }
  },
  "cells": [
    {
      "cell_type": "markdown",
      "metadata": {
        "id": "view-in-github",
        "colab_type": "text"
      },
      "source": [
        "<a href=\"https://colab.research.google.com/github/SeamusFeeney36/In-class-1-/blob/main/In_class_Assignments_Seamus_1_.ipynb\" target=\"_parent\"><img src=\"https://colab.research.google.com/assets/colab-badge.svg\" alt=\"Open In Colab\"/></a>"
      ]
    },
    {
      "cell_type": "code",
      "execution_count": null,
      "metadata": {
        "colab": {
          "base_uri": "https://localhost:8080/"
        },
        "id": "nVb5z4sMx7cu",
        "outputId": "4dc46ecf-4513-4aed-c857-d9251201064d"
      },
      "outputs": [
        {
          "output_type": "stream",
          "name": "stdout",
          "text": [
            "Please Provide radius:5\n",
            "Please Provide height:10\n",
            "Area of a Cylinder =471.0 sq. ft\n"
          ]
        }
      ],
      "source": [
        "pi = 3.14\n",
        "radius = float(input('Please Provide radius:'))\n",
        "height = float(input('Please Provide height:'))\n",
        "pi = 3.14\n",
        "\n",
        "Area = (2 * pi * (radius ** 2)) + (2 * pi * radius * height)\n",
        "print(f'Area of a Cylinder ={Area} sq. ft')"
      ]
    },
    {
      "cell_type": "code",
      "source": [
        "number1 = float(input(\"Please provide first number: \"))\n",
        "sign = input(\"Please provide operator (+, -, *, /, //, **, %): \")\n",
        "number2 = float(input(\"Please provide second number: \"))\n",
        "\n",
        "if sign == '+':\n",
        "  print(f'{number1} + {number2} = {number1 + number2}')\n",
        "elif sign =='-':\n",
        "  print(f'{number1} - {number2} = {number1 - number2}')\n",
        "elif sign =='*':\n",
        "  print(f'{number1} * {number2} = {number1 * number2}')\n",
        "elif sign =='/':\n",
        "  print(f'{number1} / {number2} = {number1 / number2}')\n",
        "elif sign =='//':\n",
        "  print(f'{number1} // {number2} = {number1 // number2}')\n",
        "elif sign =='**':\n",
        "  print(f'{number1} ^ {number2} = {number1 * number2}')\n",
        "elif sign =='%':\n",
        "  print(f'{number1} mod {number2} = {number1 % number2}')"
      ],
      "metadata": {
        "colab": {
          "base_uri": "https://localhost:8080/"
        },
        "id": "SqWXKrW1y66W",
        "outputId": "c8d9e6d4-c05d-46ef-d634-da5eecf51d71"
      },
      "execution_count": null,
      "outputs": [
        {
          "output_type": "stream",
          "name": "stdout",
          "text": [
            "Please provide first number: 2\n",
            "Please provide operator (+, -, *, /, //, **, %): +\n",
            "Please provide second number: 2\n",
            "2.0 + 2.0 = 4.0\n"
          ]
        }
      ]
    },
    {
      "cell_type": "code",
      "source": [
        "for hour in range (1,9):\n",
        "  fee = 5 +2.5*hour\n",
        "  if fee <= 10:\n",
        "    fee = 10.0\n",
        "  elif fee >= 20:\n",
        "    fee = 20.0\n",
        "  print(hour, fee)"
      ],
      "metadata": {
        "colab": {
          "base_uri": "https://localhost:8080/"
        },
        "id": "kDuYLWaEesd6",
        "outputId": "e4065ff1-129f-4473-ac10-3658cef22055"
      },
      "execution_count": null,
      "outputs": [
        {
          "output_type": "stream",
          "name": "stdout",
          "text": [
            "1 10.0\n",
            "2 10.0\n",
            "3 12.5\n",
            "4 15.0\n",
            "5 17.5\n",
            "6 20.0\n",
            "7 20.0\n",
            "8 20.0\n"
          ]
        }
      ]
    },
    {
      "cell_type": "code",
      "source": [
        "print ('(Ad$)','\\t','(Profit$)')\n",
        "for admoney in range(0, 225, 25):\n",
        "    additional = round(2 * (admoney)**.5)\n",
        "    profit = (20 + additional) * 10  - 200 - admoney\n",
        "    print(admoney, '\\t',  profit)"
      ],
      "metadata": {
        "id": "NAB6k18pTNm9",
        "colab": {
          "base_uri": "https://localhost:8080/"
        },
        "outputId": "8846cdb5-9eec-4e65-f40e-de261be0bdcb"
      },
      "execution_count": null,
      "outputs": [
        {
          "output_type": "stream",
          "name": "stdout",
          "text": [
            "(Ad$) \t (Profit$)\n",
            "0 \t 0\n",
            "25 \t 75\n",
            "50 \t 90\n",
            "75 \t 95\n",
            "100 \t 100\n",
            "125 \t 95\n",
            "150 \t 90\n",
            "175 \t 85\n",
            "200 \t 80\n"
          ]
        }
      ]
    },
    {
      "cell_type": "code",
      "source": [
        "play = input(\"Do you want to play the Game? (yes/no)\")\n",
        "\n",
        "while play == 'yes':\n",
        "  p1 = input('Player 1 - Choose between rock/paper/scissors: ')\n",
        "  p2 = input('Player 2 - Choose between rock/paper/scissors: ')\n",
        "  if p1 == p2:\n",
        "    print('Draw')\n",
        "  elif((p1 == 'rock' and p2 == 'paper') or\n",
        "   (p1 == 'paper' and p2 == 'scissors') or\n",
        "    (p1 == 'scissors' and p2 == 'rock')):\n",
        "    print('Player 2 wins')\n",
        "  else:\n",
        "    print('Player 1 wins')\n",
        "  play = input('Do you want to play the Game? (yes/no)')\n",
        "else:\n",
        "  print('Game Over')"
      ],
      "metadata": {
        "colab": {
          "base_uri": "https://localhost:8080/"
        },
        "id": "o1HNr-Hj-KyA",
        "outputId": "1b406519-6f33-4e40-acf1-ed120ca8f836"
      },
      "execution_count": null,
      "outputs": [
        {
          "output_type": "stream",
          "name": "stdout",
          "text": [
            "Do you want to play the Game? (yes/no)yes\n",
            "Player 1 - Choose between rock/paper/scissors: rock\n",
            "Player 2 - Choose between rock/paper/scissors: paper\n",
            "Player 2 wins\n",
            "Do you want to play the Game? (yes/no)scissor \n",
            "Game Over\n"
          ]
        }
      ]
    },
    {
      "cell_type": "code",
      "source": [
        "lst = []\n",
        "num = float(input('Add Numbers: '))\n",
        "\n",
        "while num != 0:\n",
        "  lst.append(num)\n",
        "  num = float(input('Add Numbers: '))\n",
        "\n",
        "lst.sort(reverse = True)\n",
        "print(lst)"
      ],
      "metadata": {
        "colab": {
          "base_uri": "https://localhost:8080/"
        },
        "id": "xfxYzemx_n_A",
        "outputId": "70dc1f0e-891b-4fa9-fe56-19539f4bd6ae"
      },
      "execution_count": null,
      "outputs": [
        {
          "output_type": "stream",
          "name": "stdout",
          "text": [
            "Add Numbers: 3\n",
            "Add Numbers: 56\n",
            "Add Numbers: 8\n",
            "Add Numbers: 4\n",
            "Add Numbers: 0\n",
            "[56.0, 8.0, 4.0, 3.0]\n"
          ]
        }
      ]
    },
    {
      "cell_type": "code",
      "source": [
        "counts = {}\n",
        "\n",
        "while len(counts) < 5:\n",
        "  key = input('Give a string: ')\n",
        "  if key not in counts:\n",
        "    counts[key] = 1\n",
        "  else:\n",
        "    counts[key] = counts[key] + 1\n",
        "\n",
        "counts"
      ],
      "metadata": {
        "colab": {
          "base_uri": "https://localhost:8080/"
        },
        "id": "vqXol-NWSeDM",
        "outputId": "1e6b4835-e979-45f6-a85b-14cb1f2b233e"
      },
      "execution_count": 2,
      "outputs": [
        {
          "name": "stdout",
          "output_type": "stream",
          "text": [
            "Give a string: a\n",
            "Give a string: b\n",
            "Give a string: c\n",
            "Give a string: d\n",
            "Give a string: e\n"
          ]
        },
        {
          "output_type": "execute_result",
          "data": {
            "text/plain": [
              "{'a': 1, 'b': 1, 'c': 1, 'd': 1, 'e': 1}"
            ]
          },
          "metadata": {},
          "execution_count": 2
        }
      ]
    }
  ]
}